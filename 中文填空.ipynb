{
 "cells": [
  {
   "cell_type": "code",
   "execution_count": 2,
   "metadata": {},
   "outputs": [
    {
     "name": "stderr",
     "output_type": "stream",
     "text": [
      "Using custom data configuration default\n",
      "Reusing dataset chn_senti_corp (/home/qilb/.cache/huggingface/datasets/seamew___chn_senti_corp/default/0.0.0/1f242195a37831906957a11a2985a4329167e60657c07dc95ebe266c03fdfb85)\n"
     ]
    },
    {
     "data": {
      "application/vnd.jupyter.widget-view+json": {
       "model_id": "fdbb7e323ada49a18ff37231e74cdd36",
       "version_major": 2,
       "version_minor": 0
      },
      "text/plain": [
       "  0%|          | 0/10 [00:00<?, ?ba/s]"
      ]
     },
     "metadata": {},
     "output_type": "display_data"
    },
    {
     "data": {
      "text/plain": [
       "(9192,\n",
       " '选择珠江花园的原因就是方便，有电动扶梯直接到达海边，周围餐馆、食廊、商场、超市、摊位一应俱全。酒店装修一般，但还算整洁。 泳池在大堂的屋顶，因此很小，不过女儿倒是喜欢。 包的早餐是西式的，还算丰富。 服务吗，一般')"
      ]
     },
     "execution_count": 2,
     "metadata": {},
     "output_type": "execute_result"
    }
   ],
   "source": [
    "import torch\n",
    "from datasets import load_dataset\n",
    "\n",
    "\n",
    "# 定义数据集\n",
    "class Dataset(torch.utils.data.Dataset):\n",
    "    def __init__(self,split):\n",
    "        dataset = load_dataset(path='seamew/ChnSentiCorp',split=split)\n",
    "\n",
    "        def f(data):\n",
    "            return len(data['text']) > 30  # 只要长度大于30的\n",
    "        self.dataset = dataset.filter(f)\n",
    "    \n",
    "    def __len__(self):\n",
    "        return len(self.dataset)\n",
    "\n",
    "    def __getitem__(self,i):\n",
    "        text = self.dataset[i]['text']\n",
    "        return text\n",
    "\n",
    "dataset = Dataset('train')\n",
    "len(dataset),dataset[0]"
   ]
  },
  {
   "cell_type": "code",
   "execution_count": 14,
   "metadata": {},
   "outputs": [
    {
     "data": {
      "text/plain": [
       "PreTrainedTokenizer(name_or_path='bert-base-chinese', vocab_size=21128, model_max_len=512, is_fast=False, padding_side='right', truncation_side='right', special_tokens={'unk_token': '[UNK]', 'sep_token': '[SEP]', 'pad_token': '[PAD]', 'cls_token': '[CLS]', 'mask_token': '[MASK]'})"
      ]
     },
     "execution_count": 14,
     "metadata": {},
     "output_type": "execute_result"
    }
   ],
   "source": [
    "from transformers import BertTokenizer\n",
    "# 加载字典和分词工具\n",
    "token = BertTokenizer.from_pretrained('bert-base-chinese')\n",
    "token"
   ]
  },
  {
   "cell_type": "code",
   "execution_count": 15,
   "metadata": {},
   "outputs": [
    {
     "name": "stdout",
     "output_type": "stream",
     "text": [
      "574\n",
      "[CLS] 质 量 不 错 ， 适 合 3 岁 左 右 小 孩 玩 [MASK] 每 一 页 边 上 都 有 已 经 打 好 的 虚 [SEP]\n",
      "。\n"
     ]
    },
    {
     "data": {
      "text/plain": [
       "(torch.Size([16, 30]),\n",
       " torch.Size([16, 30]),\n",
       " torch.Size([16, 30]),\n",
       " tensor([ 511, 3221,  510, 6858, 4905, 1914, 3221, 1057,  677, 6230,  673,  678,\n",
       "         2769, 1184, 3315, 8024]))"
      ]
     },
     "execution_count": 15,
     "metadata": {},
     "output_type": "execute_result"
    }
   ],
   "source": [
    "# 定义批处理函数\n",
    "def collate_fn(data):\n",
    "\n",
    "\n",
    "    #编码\n",
    "    data = token.batch_encode_plus(batch_text_or_text_pairs = data,\n",
    "                                    truncation = True,\n",
    "                                    padding = 'max_length',\n",
    "                                    max_length = 30,\n",
    "                                    return_tensors = 'pt',\n",
    "                                    return_length=True)\n",
    "    input_ids = data['input_ids']\n",
    "    attention_mask = data['attention_mask']\n",
    "    token_type_ids = data['token_type_ids']\n",
    "\n",
    "\n",
    "    # 把原来input_ids 中第15个词作为label\n",
    "    labels = input_ids[:,15].reshape(-1).clone()\n",
    "    # 把input_ids中第15个词固定替换为mask \n",
    "    input_ids[:,15] = token.get_vocab()[token.mask_token]\n",
    "    \n",
    "    return input_ids,attention_mask,token_type_ids,labels\n",
    "\n",
    "# 定义数据加载器\n",
    "loader = torch.utils.data.DataLoader(dataset=dataset,\n",
    "                                    batch_size = 16,\n",
    "                                    collate_fn = collate_fn,\n",
    "                                    shuffle = True,\n",
    "                                    drop_last = True)\n",
    "for i,(input_ids,attention_mask,token_type_ids,labels) in enumerate(loader):\n",
    "    break\n",
    "print (len(loader))\n",
    "print (token.decode(input_ids[0]))\n",
    "print (token.decode(labels[0]))\n",
    "input_ids.shape,attention_mask.shape,token_type_ids.shape,labels"
   ]
  },
  {
   "cell_type": "code",
   "execution_count": 24,
   "metadata": {},
   "outputs": [
    {
     "name": "stderr",
     "output_type": "stream",
     "text": [
      "Some weights of the model checkpoint at bert-base-chinese were not used when initializing BertModel: ['cls.predictions.bias', 'cls.predictions.transform.dense.bias', 'cls.predictions.decoder.weight', 'cls.seq_relationship.bias', 'cls.predictions.transform.LayerNorm.bias', 'cls.seq_relationship.weight', 'cls.predictions.transform.LayerNorm.weight', 'cls.predictions.transform.dense.weight']\n",
      "- This IS expected if you are initializing BertModel from the checkpoint of a model trained on another task or with another architecture (e.g. initializing a BertForSequenceClassification model from a BertForPreTraining model).\n",
      "- This IS NOT expected if you are initializing BertModel from the checkpoint of a model that you expect to be exactly identical (initializing a BertForSequenceClassification model from a BertForSequenceClassification model).\n"
     ]
    }
   ],
   "source": [
    "device = torch.device(\"cuda:0\" if torch.cuda.is_available() else \"cpu\")\n",
    "from transformers import BertModel\n",
    "#加载预训练模型\n",
    "pretrained = BertModel.from_pretrained('bert-base-chinese')"
   ]
  },
  {
   "cell_type": "code",
   "execution_count": 37,
   "metadata": {},
   "outputs": [
    {
     "name": "stdout",
     "output_type": "stream",
     "text": [
      "torch.Size([16, 768])\n"
     ]
    },
    {
     "data": {
      "text/plain": [
       "torch.Size([16, 21128])"
      ]
     },
     "execution_count": 37,
     "metadata": {},
     "output_type": "execute_result"
    }
   ],
   "source": [
    "\n",
    "# 定义下游任务模型  本质是在分类  看待填空的那个字是词典中的哪一个\n",
    "class Model(torch.nn.Module):\n",
    "    def __init__(self):\n",
    "        super().__init__()\n",
    "        self.decoder = torch.nn.Linear(768,token.vocab_size,bias=False)\n",
    "        self.bias = torch.nn.Parameter(torch.zeros(token.vocab_size))\n",
    "        self.decoder.bias = self.bias\n",
    "    def forward(self,input_ids,attention_mask,token_type_ids):\n",
    "        with torch.no_grad():\n",
    "            out = pretrained(input_ids=input_ids,attention_mask=attention_mask,token_type_ids=token_type_ids)\n",
    "            print (out.last_hidden_state[:,15].shape)\n",
    "        out = self.decoder(out.last_hidden_state[:,15]) # 这里固定是第15个词 实际应用可能是任何一个位置的 需记录索引\n",
    "        return out\n",
    "model = Model()\n",
    "model(input_ids=input_ids,attention_mask=attention_mask,token_type_ids=token_type_ids).shape\n"
   ]
  },
  {
   "cell_type": "code",
   "execution_count": 29,
   "metadata": {},
   "outputs": [
    {
     "name": "stdout",
     "output_type": "stream",
     "text": [
      "0 2.2244198322296143 0.5625\n",
      "50 1.3433104753494263 0.6875\n",
      "100 1.7187391519546509 0.6875\n",
      "150 1.9837058782577515 0.6875\n",
      "200 1.6465390920639038 0.625\n",
      "250 1.3356690406799316 0.875\n",
      "300 0.9679287672042847 0.875\n",
      "350 1.6963425874710083 0.625\n",
      "400 0.35137617588043213 0.9375\n",
      "450 1.0924913883209229 0.8125\n",
      "500 1.4483717679977417 0.8125\n",
      "550 0.7847290635108948 0.875\n"
     ]
    }
   ],
   "source": [
    "\n",
    "#训练模型\n",
    "from transformers import AdamW\n",
    "# 训练\n",
    "optimizer = AdamW(model.parameters(),lr=5e-4)\n",
    "criterion = torch.nn.CrossEntropyLoss()\n",
    "model.train()\n",
    "for i, (input_ids,attention_mask,token_type_ids,labels) in enumerate(loader):\n",
    "    out  = model(input_ids=input_ids,attention_mask=attention_mask,token_type_ids=token_type_ids)\n",
    "    loss = criterion(out,labels)\n",
    "    loss.backward()\n",
    "    optimizer.step()\n",
    "    optimizer.zero_grad()\n",
    "    if i%50  == 0:\n",
    "        out = out.argmax(dim = 1)\n",
    "        accuracy = (out == labels).sum().item() / len(labels)\n",
    "        print (i, loss.item(),accuracy)\n",
    "    # if i == 3000:\n",
    "    #     break\n"
   ]
  },
  {
   "cell_type": "code",
   "execution_count": 35,
   "metadata": {},
   "outputs": [
    {
     "name": "stderr",
     "output_type": "stream",
     "text": [
      "Using custom data configuration default\n",
      "Reusing dataset chn_senti_corp (/home/qilb/.cache/huggingface/datasets/seamew___chn_senti_corp/default/0.0.0/1f242195a37831906957a11a2985a4329167e60657c07dc95ebe266c03fdfb85)\n"
     ]
    },
    {
     "data": {
      "application/vnd.jupyter.widget-view+json": {
       "model_id": "982d776742d94a3eae9abe41dce9eaab",
       "version_major": 2,
       "version_minor": 0
      },
      "text/plain": [
       "  0%|          | 0/2 [00:00<?, ?ba/s]"
      ]
     },
     "metadata": {},
     "output_type": "display_data"
    },
    {
     "name": "stdout",
     "output_type": "stream",
     "text": [
      "0\n",
      "[CLS] 说 实 话 ， 写 的 实 在 不 怎 么 样 ， 东 [MASK] 西 凑 ， 主 人 公 那 样 的 心 理 素 质 [SEP]\n",
      "拼 拼\n",
      "1\n",
      "[CLS] 1 、 有 点 重 ， 2 、 速 度 明 显 较 14 [MASK] 的 笔 记 本 慢 ， 打 开 网 页 多 的 时 [SEP]\n",
      "寸 寸\n",
      "2\n",
      "[CLS] 实 在 太 远 了 ， 到 香 港 就 是 满 足 购 [MASK] 需 要 ， 留 在 酒 店 出 门 不 方 便 。 [SEP]\n",
      "物 物\n",
      "3\n",
      "[CLS] 键 盘 太 拥 挤 按 着 不 太 舒 服, 也 容 [MASK] 按 错 键. 不 过 这 体 积 大 概 也 只 [SEP]\n",
      "易 易\n",
      "4\n",
      "[CLS] 原 本 在 网 上 订 了 两 个 套 房 ， 入 住 [MASK] ， 携 程 还 给 我 打 电 话 问 是 否 只 [SEP]\n",
      "后 后\n",
      "5\n",
      "[CLS] 配 置 算 不 错 ， 装 [UNK] 有 点 麻 烦 ， 关 [MASK] 是 找 有 [UNK] 驱 动 的 盘 ， 按 照 网 上 [SEP]\n",
      "键 键\n",
      "6\n",
      "[CLS] 首 先 附 赠 软 件 （ [UNK] 、 [UNK] ） 是 在 第 [MASK] 次 启 动 时 决 定 是 否 安 装 。 不 像 [SEP]\n",
      "一 一\n",
      "7\n",
      "[CLS] 还 不 如 直 接 到 那 里 找 个 导 游 去 订 [MASK] 比 携 程 订 的 便 宜, 导 游 说 十 一 [SEP]\n",
      "都 都\n",
      "8\n",
      "[CLS] 外 观 设 计 别 出 心 裁 ！ 配 置 均 衡 性 [MASK] 比 高 ， 比 [UNK] 系 列 又 有 进 步 。 散 [SEP]\n",
      "价 价\n",
      "9\n",
      "[CLS] 这 次 入 住 少 林 宾 馆 还 是 比 较 满 意 [MASK], 宾 馆 的 位 置 比 较 好 找, 从 客 [SEP]\n",
      "的 的\n",
      "10\n",
      "[CLS] 屏 的 显 示 效 果 好 象 不 大 好 ， 不 知 [MASK] 是 才 拿 到 不 会 调 还 是 其 它 问 题 [SEP]\n",
      "道 道\n",
      "11\n",
      "[CLS] 很 一 般 的 书 ， 女 儿 不 是 很 喜 欢 ， [MASK] 介 绍 买 的 ， 以 为 应 该 不 错 的 ， [SEP]\n",
      "看 看\n",
      "12\n",
      "[CLS] 我 十 一 来 住 了 两 天 ， 一 进 门 就 象 [MASK] 骗 的 感 觉 。 进 旅 馆 有 几 百 米 的 [SEP]\n",
      "给 给\n",
      "13\n",
      "[CLS] ９８ 年 这 家 酒 店 开 业 时 住 过 ， 感 [MASK] 很 好 ， 今 年 去 青 岛 还 是 选 择 了 [SEP]\n",
      "觉 觉\n",
      "14\n",
      "[CLS] 书 已 收 到 ， 貌 似 觉 得 字 有 点 小 ， [MASK] ， 可 惜 了 书 里 的 内 容 几 乎 和 网 [SEP]\n",
      "哎 哎\n",
      "15\n",
      "[CLS] 烂 酒 店 一 个. 结 帐 时 多 收 了 90 元 [MASK] 回 来 后 看 帐 单 才 发 现, 先 讲 携 [SEP]\n",
      ", ,\n",
      "0.640625\n"
     ]
    }
   ],
   "source": [
    "#测试\n",
    "def test():\n",
    "    model.eval()\n",
    "    correct = 0\n",
    "    total = 0\n",
    "    loader_test = torch.utils.data.DataLoader(dataset=Dataset('test'),batch_size=32,collate_fn=collate_fn,shuffle=True,drop_last=True)\n",
    "    for i, (input_ids,attention_mask,token_type_ids,labels) in enumerate(loader_test):\n",
    "        if i == 16:\n",
    "            break\n",
    "        print (i)\n",
    "        with torch.no_grad():\n",
    "\n",
    "            out  = model(input_ids=input_ids,attention_mask=attention_mask,token_type_ids=token_type_ids)\n",
    "\n",
    "    \n",
    "        out = out.argmax(dim = 1)\n",
    "        correct += (out == labels).sum().item()\n",
    "        total += len(labels)\n",
    "        print (token.decode(input_ids[0]))\n",
    "        print (token.decode(labels[0]),token.decode(labels[0]))\n",
    "    print (correct / total)\n",
    "test()"
   ]
  },
  {
   "cell_type": "code",
   "execution_count": null,
   "metadata": {},
   "outputs": [],
   "source": []
  }
 ],
 "metadata": {
  "interpreter": {
   "hash": "9bdac110bc2195a97d8863c350d20b7f4e667502377256e4f50b096594c943fe"
  },
  "kernelspec": {
   "display_name": "Python 3.7.0 ('pytorch')",
   "language": "python",
   "name": "python3"
  },
  "language_info": {
   "codemirror_mode": {
    "name": "ipython",
    "version": 3
   },
   "file_extension": ".py",
   "mimetype": "text/x-python",
   "name": "python",
   "nbconvert_exporter": "python",
   "pygments_lexer": "ipython3",
   "version": "3.7.0"
  },
  "orig_nbformat": 4
 },
 "nbformat": 4,
 "nbformat_minor": 2
}
